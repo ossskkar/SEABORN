{
 "cells": [
  {
   "cell_type": "code",
   "execution_count": 13,
   "metadata": {},
   "outputs": [],
   "source": [
    "# Load packages\n",
    "import xlsxwriter\n",
    "import numpy as np\n",
    "import matplotlib.pyplot as plt\n",
    "import seaborn as sns\n",
    "\n",
    "# Generate a histogram of normal distributed samples\n",
    "mu, sigma = 0, 0.1\n",
    "s = np.random.normal(mu, sigma, 1000)\n",
    "\n",
    "count, bins, ignored = plt.hist(s, 30, normed=True)\n",
    "plt.plot(bins, 1/(sigma * np.sqrt(2 * np.pi)) * np.exp( - (bins - mu)**2 / (2 * sigma**2) ), linewidth=2, color='r')\n",
    "img_file = './figures/hist_plot.png'\n",
    "plt.savefig(img_file)\n",
    "\n",
    "# Create excel file.\n",
    "file_name = './files/example.xlsx'\n",
    "workbook = xlsxwriter.Workbook(file_name)\n",
    "worksheet = workbook.add_worksheet()\n",
    "\n",
    "# Widen the first column to make the text clearer.\n",
    "worksheet.set_column('A:A', 30)\n",
    "\n",
    "# Insert an image.\n",
    "worksheet.write('A2', 'Insert an image in a cell:')\n",
    "worksheet.insert_image('B2', img_file)\n",
    "\n",
    "# Insert an image offset in the cell.\n",
    "worksheet.write('A12', 'Insert an image with an offset:')\n",
    "worksheet.insert_image('B12', img_file, {'x_offset': 15, 'y_offset': 10})\n",
    "\n",
    "# Insert an image with scaling.\n",
    "worksheet.write('A23', 'Insert a scaled image:')\n",
    "worksheet.insert_image('B23', img_file, {'x_scale': 0.5, 'y_scale': 0.5})\n",
    "\n",
    "workbook.close()"
   ]
  },
  {
   "cell_type": "code",
   "execution_count": null,
   "metadata": {
    "collapsed": true
   },
   "outputs": [],
   "source": []
  },
  {
   "cell_type": "code",
   "execution_count": null,
   "metadata": {
    "collapsed": true
   },
   "outputs": [],
   "source": []
  }
 ],
 "metadata": {
  "kernelspec": {
   "display_name": "Python 3",
   "language": "python",
   "name": "python3"
  },
  "language_info": {
   "codemirror_mode": {
    "name": "ipython",
    "version": 3
   },
   "file_extension": ".py",
   "mimetype": "text/x-python",
   "name": "python",
   "nbconvert_exporter": "python",
   "pygments_lexer": "ipython3",
   "version": "3.6.1"
  }
 },
 "nbformat": 4,
 "nbformat_minor": 2
}
